{
 "cells": [
  {
   "cell_type": "markdown",
   "id": "9fa055a0",
   "metadata": {},
   "source": [
    "# Модули vs Пакеты. Условия"
   ]
  },
  {
   "cell_type": "markdown",
   "id": "19a69388",
   "metadata": {},
   "source": [
    "Когда программа становится большой (более 100 строк), то уже не очень удобно хранить ее в одном файле. Причиной этому являются множество определенных переменных и множество логических блоков (если кода много, то скорее всего мы решаем не одну простую задачу, а целый набор таких задач). "
   ]
  },
  {
   "cell_type": "markdown",
   "id": "a438a30f",
   "metadata": {},
   "source": [
    "Для решения этой проблемы, в Python был разработан такой инструмент как модуль.\n",
    "\n",
    "**Модуль** $-$ это файл с расширением .py (например my_file.py), который содержит программу, написаную на python."
   ]
  },
  {
   "cell_type": "markdown",
   "id": "c13b4961",
   "metadata": {},
   "source": [
    "Теперь мы можем хранить наш код не в одном файле, а разбивать его по файлам так, чтобы в каждом файле описывалось решение только одной задачи."
   ]
  },
  {
   "cell_type": "markdown",
   "id": "dbbb202a",
   "metadata": {},
   "source": [
    "Но теперь появилась другая проблема. А какой же нам файл запускать? Раньше то был один файл, и все было однозначно..."
   ]
  },
  {
   "cell_type": "markdown",
   "id": "3affc36b",
   "metadata": {},
   "source": [
    "Тут нам на помощь приходит еще один инструмент для работы с модулями: импорты (import с английского ввозить. Вот и мы будем ввозить решения из других модулей в наш главный модуль)"
   ]
  },
  {
   "cell_type": "markdown",
   "id": "c4a62c4b",
   "metadata": {},
   "source": [
    "Но перед этим необходимо создать пакет.\n",
    "\n",
    "**Пакет** $-$ это папка, содержащая набор модулей и файл `__init__.py`"
   ]
  },
  {
   "cell_type": "code",
   "execution_count": null,
   "id": "02fdb6e9",
   "metadata": {},
   "outputs": [],
   "source": [
    "\"\"\"\n",
    "Предположим следующую ситуацию\n",
    "\"\"\"\n",
    "\n",
    "# есть файл: solution/math.py\n",
    "PI = 3.141592\n",
    "\n",
    "# есть файл: solution/__init__.py  <-- необходим по определению пакета\n",
    "# он может быть пустым\n",
    "\n",
    "# есть файл main.py  <-- это и будет главный файл, что мы будем запускать\n",
    "from solution.math import PI  # достаем решения, определенные в модуле solution/math.py\n",
    "print(PI)"
   ]
  },
  {
   "cell_type": "markdown",
   "id": "ab0729b0",
   "metadata": {},
   "source": [
    "Посмотрим на практике: module_example/example1"
   ]
  },
  {
   "cell_type": "markdown",
   "id": "6f5fdacc",
   "metadata": {},
   "source": [
    "## Импорты"
   ]
  },
  {
   "cell_type": "markdown",
   "id": "51c63000",
   "metadata": {},
   "source": [
    "Есть 3 вариации:\n",
    "\n",
    "Имортировать сам модуль. Тогда обращение будет выглядеть `solution.math.PI`\n",
    "```\n",
    "import solution.math\n",
    "```\n",
    "\n",
    "Импортировать отдельный элемент из модуля. Тогда обращаться к этому элементу можно на прямую `PI`\n",
    "```\n",
    "from solution.math import PI\n",
    "```\n",
    "\n",
    "Импортировать все элементы из модуля (к каждому из них можно обратиться на прямую). Но это не желательный подход (не очевидно какие модули импортированы. Могут быть колизии).\n",
    "```\n",
    "from solution.math import *\n",
    "```\n",
    "\n",
    "---\n",
    "\n",
    "Если элемент с таким именем уже существует, то ему можно указать другое имя. Например\n",
    "\n",
    "```\n",
    "import math  <-- это модуль math из самого Python\n",
    "from solution import math as my_math  <-- это модуль math написан нами. Но теперь к нему мы будем обращаться как my_math\n",
    "```"
   ]
  },
  {
   "cell_type": "markdown",
   "id": "868e49cc",
   "metadata": {},
   "source": [
    "## Определение точки запуска"
   ]
  },
  {
   "cell_type": "markdown",
   "id": "367fe8a8",
   "metadata": {},
   "source": [
    "Не всегда файл запуска (точка входа в программу) будет обозначаться как `main.py`. Есть подход с помощью которого файл, который нужно запускать обозначается на уровне Python:\n",
    "\n",
    "В файле запуска (в нашем случае main.py) логику закидываем в такое условие:\n",
    "\n",
    "```\n",
    "if __name__ == '__main__':\n",
    "    а тут уже логика\n",
    "```"
   ]
  },
  {
   "cell_type": "code",
   "execution_count": null,
   "id": "7338fe08",
   "metadata": {},
   "outputs": [],
   "source": []
  },
  {
   "cell_type": "markdown",
   "id": "3a258208",
   "metadata": {},
   "source": [
    "## Условия"
   ]
  },
  {
   "cell_type": "markdown",
   "id": "0758306e",
   "metadata": {},
   "source": [
    "Конструкция условий в python выглядит следующим образом:\n",
    "    \n",
    "```\n",
    "if тут идет само условие:\n",
    "    код если условие выполнено\n",
    "elif пошло второе условие (если предыдущие не выполнились):\n",
    "    код если второе условие выполнено\n",
    "...\n",
    "else:\n",
    "    код если ни одно из условий выше не выполнилось\n",
    "```"
   ]
  },
  {
   "cell_type": "markdown",
   "id": "7a223650",
   "metadata": {},
   "source": [
    "Пример на практике"
   ]
  },
  {
   "cell_type": "code",
   "execution_count": 8,
   "id": "07bc5919",
   "metadata": {},
   "outputs": [
    {
     "name": "stdout",
     "output_type": "stream",
     "text": [
      "А старость, совсем не в радость\n"
     ]
    }
   ],
   "source": [
    "age = 1e10000000000\n",
    "\n",
    "if age < 0:\n",
    "    print('Не родился ты браток!')\n",
    "elif 0 < age <= 1:\n",
    "    print('Присвоен статус: Новорожденный')\n",
    "elif 1 < age < 3:   # 1 < age and age < 3\n",
    "    print('Малюк-пацюк')\n",
    "elif 3 <= age < 7:\n",
    "    print('Эй. малой!')\n",
    "elif 7 <= age < 16:\n",
    "    print('Зелен да подросточек')\n",
    "else:\n",
    "    print('А старость, совсем не в радость')"
   ]
  },
  {
   "cell_type": "markdown",
   "id": "45a86c06",
   "metadata": {},
   "source": [
    "Условия выполняются, если выражение принимает значение `True`."
   ]
  },
  {
   "cell_type": "code",
   "execution_count": 10,
   "id": "947323ed",
   "metadata": {},
   "outputs": [
    {
     "name": "stdout",
     "output_type": "stream",
     "text": [
      "True True True True True\n",
      "False False False\n"
     ]
    }
   ],
   "source": [
    "# эти значения принимаются как True\n",
    "print(\n",
    "    5 > 2, bool(3), bool(-5), True, bool('abc')\n",
    ")\n",
    "\n",
    "# а вот эти уже будут False\n",
    "print(\n",
    "    bool(0), 5 > 10, bool('')\n",
    ")"
   ]
  }
 ],
 "metadata": {
  "kernelspec": {
   "display_name": "Python 3 (ipykernel)",
   "language": "python",
   "name": "python3"
  },
  "language_info": {
   "codemirror_mode": {
    "name": "ipython",
    "version": 3
   },
   "file_extension": ".py",
   "mimetype": "text/x-python",
   "name": "python",
   "nbconvert_exporter": "python",
   "pygments_lexer": "ipython3",
   "version": "3.6.6"
  }
 },
 "nbformat": 4,
 "nbformat_minor": 5
}
