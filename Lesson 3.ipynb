{
 "cells": [
  {
   "cell_type": "markdown",
   "id": "ac8fdc8b",
   "metadata": {},
   "source": [
    "## Функции"
   ]
  },
  {
   "cell_type": "markdown",
   "id": "da41108f",
   "metadata": {},
   "source": [
    "Логический блок выполнения, что устанавливает отображения между входными данными и результатом.\n",
    "\n",
    "```\n",
    "входные данные -> функция -> результат\n",
    "```"
   ]
  },
  {
   "cell_type": "markdown",
   "id": "c5570d85",
   "metadata": {},
   "source": [
    "```\n",
    "def <название функции>(<параметр 1>, <параметр 2>, ...):\n",
    "    <тело функции>\n",
    "    ...\n",
    "    return <результат>\n",
    "```"
   ]
  },
  {
   "cell_type": "markdown",
   "id": "88d33b3c",
   "metadata": {},
   "source": [
    "```\n",
    "<название функции>(<параметр 1>, <параметр 2>, ...)\n",
    "```"
   ]
  },
  {
   "cell_type": "markdown",
   "id": "3fc758d6",
   "metadata": {},
   "source": [
    "## Условия"
   ]
  },
  {
   "cell_type": "markdown",
   "id": "87ce4405",
   "metadata": {},
   "source": [
    "Конструкция, что позволяет добавить ветвления в програму, по определенному условию."
   ]
  },
  {
   "cell_type": "markdown",
   "id": "3ad0b76c",
   "metadata": {},
   "source": [
    "```\n",
    "if <условие 1>:\n",
    "    <код что выполнится при условии 1>\n",
    "elif <условие 2>:\n",
    "    <код что выполнится при условии 2>\n",
    "else:\n",
    "    <код что выполнится если условия выше не выполнились>\n",
    "```"
   ]
  },
  {
   "cell_type": "markdown",
   "id": "74448667",
   "metadata": {},
   "source": [
    "## Циклы"
   ]
  },
  {
   "cell_type": "markdown",
   "id": "980ca623",
   "metadata": {},
   "source": [
    "Конструкция, что позволяет повторять несколько раз определенный набор команд."
   ]
  },
  {
   "cell_type": "markdown",
   "id": "4b62fefa",
   "metadata": {},
   "source": [
    "Циклы бывают нескольких типов:\n",
    "    \n",
    "    - цикл по какойто последовательности данных\n",
    "    - цикл-счетчик\n",
    "    - цикл по условию"
   ]
  },
  {
   "cell_type": "code",
   "execution_count": 3,
   "id": "52ad3e32",
   "metadata": {},
   "outputs": [
    {
     "name": "stdout",
     "output_type": "stream",
     "text": [
      "1\n",
      "2\n",
      "3\n",
      "4\n"
     ]
    }
   ],
   "source": [
    "# Цикл по последовательности\n",
    "ls = [1, 2, 3, 4]\n",
    "for item in ls:\n",
    "    print(item)"
   ]
  },
  {
   "cell_type": "code",
   "execution_count": 5,
   "id": "d0b065c7",
   "metadata": {},
   "outputs": [
    {
     "name": "stdout",
     "output_type": "stream",
     "text": [
      "1\n",
      "2\n",
      "3\n",
      "4\n"
     ]
    }
   ],
   "source": [
    "# Цикл-счетчик\n",
    "cnt = 5\n",
    "for item in range(1, cnt):\n",
    "    print(item)"
   ]
  },
  {
   "cell_type": "code",
   "execution_count": 6,
   "id": "3ee95c4e",
   "metadata": {},
   "outputs": [
    {
     "name": "stdout",
     "output_type": "stream",
     "text": [
      "1\n",
      "2\n",
      "3\n",
      "4\n"
     ]
    }
   ],
   "source": [
    "# Цикл условие\n",
    "mx = 5\n",
    "item = 1\n",
    "while item < mx:\n",
    "    print(item)\n",
    "    item += 1"
   ]
  },
  {
   "cell_type": "code",
   "execution_count": 17,
   "id": "b08ca445",
   "metadata": {},
   "outputs": [
    {
     "name": "stdout",
     "output_type": "stream",
     "text": [
      "EVENTLOOP\n"
     ]
    }
   ],
   "source": [
    "\"\"\"       \n",
    "Enhanced clock-program, showing date\n",
    "and time\n",
    "\"\"\"\n",
    "\n",
    "from turtle import *\n",
    "import datetime as dt\n",
    "\n",
    "\n",
    "FONT = (\"Courier\", 14, \"bold\")\n",
    "\n",
    "\n",
    "def jump(dist, angle=0):\n",
    "    \"\"\"\n",
    "    Used to draw clock face\n",
    "    \"\"\"\n",
    "    penup()\n",
    "    right(angle)\n",
    "    forward(dist)\n",
    "    left(angle)\n",
    "    pendown()\n",
    "\n",
    "    \n",
    "def hand(size, arrow_size):\n",
    "    \"\"\"\n",
    "    Draw clock's arrow\n",
    "    \"\"\"\n",
    "    forward(1.15 * size)\n",
    "    right(90)\n",
    "    forward(arrow_size / 2)\n",
    "    left(120)\n",
    "    forward(arrow_size)\n",
    "    left(120)\n",
    "    forward(arrow_size)\n",
    "    left(120)\n",
    "    forward(arrow_size / 2)\n",
    "\n",
    "\n",
    "def make_hand_shape(name, size, arrow_size):\n",
    "    reset()\n",
    "    jump(-0.15 * size)\n",
    "    begin_poly()\n",
    "    hand(size, arrow_size)\n",
    "    end_poly()\n",
    "    hand_form = get_poly()\n",
    "    register_shape(name, hand_form)\n",
    "\n",
    "\n",
    "def clockface(radius):\n",
    "    reset()\n",
    "    pensize(7)\n",
    "    for i in range(60):\n",
    "        jump(radius)\n",
    "        if i % 5 == 0:\n",
    "            forward(25)\n",
    "            jump(-radius-25)\n",
    "        else:\n",
    "            dot(3)\n",
    "            jump(-radius)\n",
    "        right(6)\n",
    "\n",
    "\n",
    "def setup():\n",
    "    global second_hand, minute_hand, hour_hand, writer\n",
    "    make_hand_shape(\"second_hand\", 125, 25)\n",
    "    make_hand_shape(\"minute_hand\",  130, 25)\n",
    "    make_hand_shape(\"hour_hand\", 90, 25)\n",
    "\n",
    "    clockface(160)\n",
    "\n",
    "    second_hand = Turtle()\n",
    "    second_hand.shape(\"second_hand\")\n",
    "    second_hand.color(\"gray20\", \"gray80\")\n",
    "\n",
    "    minute_hand = Turtle()\n",
    "    minute_hand.shape(\"minute_hand\")\n",
    "    minute_hand.color(\"blue1\", \"red1\")\n",
    "\n",
    "    hour_hand = Turtle()\n",
    "    hour_hand.shape(\"hour_hand\")\n",
    "    hour_hand.color(\"blue3\", \"red3\")\n",
    "\n",
    "    for hand in second_hand, minute_hand, hour_hand:\n",
    "        hand.resizemode(\"user\")\n",
    "        hand.shapesize(1, 1, 3)\n",
    "        hand.speed(0)\n",
    "\n",
    "    hideturtle()\n",
    "    writer = Turtle()\n",
    "    writer.hideturtle()\n",
    "    writer.penup()\n",
    "    writer.backward(85)\n",
    "\n",
    "\n",
    "def day_labels(time):\n",
    "    day_labels = [\n",
    "        \"Monday\", \"Tuesday\", \"Wednesday\",\n",
    "        \"Thursday\", \"Friday\", \"Saturday\",\n",
    "        \"Sunday\"\n",
    "    ]\n",
    "    return day_labels[time.weekday()]\n",
    "\n",
    "\n",
    "def format_date(time):\n",
    "    month_labels = [\n",
    "        \"Jan.\", \"Feb.\",\n",
    "        \"Mar.\", \"Apr.\", \"May\",\n",
    "        \"June\", \"July\", \"Aug.\",\n",
    "        \"Sep.\", \"Oct.\", \"Nov.\",\n",
    "        \"Dec.\"\n",
    "    ]\n",
    "    year = time.year\n",
    "    month = month_labels[time.month - 1]\n",
    "    day = time.day\n",
    "    return f'{day} {month} {year}'\n",
    "\n",
    "\n",
    "def tick():\n",
    "    today = dt.datetime.today()\n",
    "    seconds = today.second + today.microsecond / 1e6\n",
    "    minutes = today.minute + seconds / 60\n",
    "    hours = today.hour + minutes / 60\n",
    "    \n",
    "    try:\n",
    "        tracer(0)\n",
    "        writer.clear()\n",
    "        writer.home()\n",
    "        writer.forward(65)\n",
    "        writer.write(day_labels(today),\n",
    "                     align=\"center\", font=FONT)\n",
    "        writer.back(150)\n",
    "        writer.write(format_date(today),\n",
    "                     align=\"center\", font=FONT)\n",
    "        writer.forward(85)\n",
    "        \n",
    "        tracer(1)\n",
    "        second_hand.setheading(6 * seconds)\n",
    "        minute_hand.setheading(6 * minutes)\n",
    "        hour_hand.setheading(30 * hours)\n",
    "        ontimer(tick, 100)\n",
    "    except Terminator:\n",
    "        pass  # turtledemo user pressed STOP\n",
    "\n",
    "    \n",
    "def main():\n",
    "    tracer(0)\n",
    "    setup()\n",
    "    tracer(1)\n",
    "    tick()\n",
    "    return \"EVENTLOOP\"\n",
    "\n",
    "\n",
    "if __name__ == \"__main__\":\n",
    "    mode(\"logo\")\n",
    "    msg = main()\n",
    "    print(msg)\n",
    "    mainloop()\n"
   ]
  },
  {
   "cell_type": "code",
   "execution_count": 5,
   "id": "d09b4265",
   "metadata": {},
   "outputs": [
    {
     "name": "stdout",
     "output_type": "stream",
     "text": [
      "\n",
      "First line\n",
      "Second line\n",
      "Third line\n",
      "\n",
      "...\n",
      "Last line\n",
      "\n"
     ]
    }
   ],
   "source": [
    "a = \"\"\"\n",
    "First line\n",
    "Second line\n",
    "Third line\n",
    "\n",
    "...\n",
    "Last line\n",
    "\"\"\"\n",
    "print(a)"
   ]
  },
  {
   "cell_type": "code",
   "execution_count": null,
   "id": "ff6b884e",
   "metadata": {},
   "outputs": [],
   "source": []
  },
  {
   "cell_type": "markdown",
   "id": "8f7d6719",
   "metadata": {},
   "source": [
    "## Домашка"
   ]
  },
  {
   "cell_type": "markdown",
   "id": "62e5adb3",
   "metadata": {},
   "source": [
    "1. Последовательности\n",
    "\n",
    "    1. На вход подается число n. Вывести все числа от 1 до n через пробел.\n",
    "        ```\n",
    "        (вход):  7\n",
    "        (вывод): 1 2 3 4 5 6 7\n",
    "        ```\n",
    "        \n",
    "    2. На вход подается число n. Вывести все числа от n до 1 через пробел.\n",
    "        ```\n",
    "        (вход):  7\n",
    "        (вывод): 7 6 5 4 3 2 1\n",
    "        ```\n",
    "        \n",
    "    3. На вход подается число n. Вывести все четные числа от 1 до n через пробел.\n",
    "        ```\n",
    "        (вход):  7\n",
    "        (вывод): 2 4 6\n",
    "        ```\n",
    "        \n",
    "    4. На вход подается число n. Вывести все нечетные числа от 1 до n через пробел.\n",
    "        ```\n",
    "        (вход):  7\n",
    "        (вывод): 1 3 5 7\n",
    "        ```\n",
    "        \n",
    "    5. На вход подается число n. Вывести все нечетные числа от n до 1 через пробел.\n",
    "        ```\n",
    "        (вход):  7\n",
    "        (вывод): 7 5 3 1\n",
    "        ```"
   ]
  },
  {
   "cell_type": "markdown",
   "id": "081cab6f",
   "metadata": {},
   "source": [
    "2. Квадратическое уравнение\n",
    "\n",
    "На вход подаются параметры уравнения ($ax^2 + by + c = 0$). Вернуть решения квадратического уравнения или сообщить, что решений не существует (результаты округлять до 3 знака после запятой).\n",
    "```\n",
    "(вход): 10 15 -4 \n",
    "(вывод): -1.731 0.231\n",
    "```\n",
    "\n",
    "```\n",
    "(вход): 10 15 100\n",
    "(вывод): уравнение не имеет действительных решений\n",
    "```"
   ]
  },
  {
   "cell_type": "markdown",
   "id": "b6d5b52c",
   "metadata": {},
   "source": [
    "3. Графика\n",
    "\n",
    "Нарисовать дом, с помощью модуля `turtle`"
   ]
  }
 ],
 "metadata": {
  "kernelspec": {
   "display_name": "Python 3 (ipykernel)",
   "language": "python",
   "name": "python3"
  },
  "language_info": {
   "codemirror_mode": {
    "name": "ipython",
    "version": 3
   },
   "file_extension": ".py",
   "mimetype": "text/x-python",
   "name": "python",
   "nbconvert_exporter": "python",
   "pygments_lexer": "ipython3",
   "version": "3.6.6"
  }
 },
 "nbformat": 4,
 "nbformat_minor": 5
}
