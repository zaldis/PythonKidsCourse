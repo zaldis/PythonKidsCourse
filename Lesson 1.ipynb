{
 "cells": [
  {
   "cell_type": "markdown",
   "id": "aa29f3c2",
   "metadata": {},
   "source": [
    "# Типы данных"
   ]
  },
  {
   "cell_type": "markdown",
   "id": "9bd3c88a",
   "metadata": {},
   "source": [
    "## Переменная"
   ]
  },
  {
   "cell_type": "markdown",
   "id": "f6310629",
   "metadata": {},
   "source": [
    "Для того чтобы решить задачу нам необходимо хранить где-то информацию. Большие объемы информации хранятся на отдельных серверах (базах данных = БД). А вот локальные данные (с которыми работаем в данный момент) хранятся в переменных.\n",
    "\n",
    "Если копнуть более детально, то переменная это название-ссылка на адресс в памяти, где хранятся данные."
   ]
  },
  {
   "cell_type": "code",
   "execution_count": 2,
   "id": "db759b7d",
   "metadata": {},
   "outputs": [
    {
     "data": {
      "text/plain": [
       "10"
      ]
     },
     "execution_count": 2,
     "metadata": {},
     "output_type": "execute_result"
    }
   ],
   "source": [
    "num1 = 10  # переменная num1, которая указывает адресс в памяти, где хранится число 10\n",
    "num1"
   ]
  },
  {
   "cell_type": "markdown",
   "id": "53005b86",
   "metadata": {},
   "source": [
    "**Присвоение переменной** $-$ передача переменной значения.\n",
    "\n",
    "Операция выше читается: присвоение переменной $num1$ значения 10."
   ]
  },
  {
   "cell_type": "markdown",
   "id": "896a239d",
   "metadata": {},
   "source": [
    "После создания, у каждой переменной можно попросить ее значение. Для этого достаточно просто написать название этой переменной."
   ]
  },
  {
   "cell_type": "code",
   "execution_count": 3,
   "id": "558a3782",
   "metadata": {},
   "outputs": [
    {
     "name": "stdout",
     "output_type": "stream",
     "text": [
      "10\n"
     ]
    }
   ],
   "source": [
    "print(num1)"
   ]
  },
  {
   "cell_type": "markdown",
   "id": "bb072959",
   "metadata": {},
   "source": [
    "## Типизация"
   ]
  },
  {
   "cell_type": "markdown",
   "id": "b0bec755",
   "metadata": {},
   "source": [
    "А какие вообще значения мы можем сохранять в переменных?\n",
    "\n",
    "PS: для проверки будем использовать функцию `type()`"
   ]
  },
  {
   "cell_type": "code",
   "execution_count": 11,
   "id": "f0d32476",
   "metadata": {},
   "outputs": [
    {
     "name": "stdout",
     "output_type": "stream",
     "text": [
      "10 <class 'int'>\n"
     ]
    }
   ],
   "source": [
    "# целое число\n",
    "num1 = 10\n",
    "print(num1, type(num1))"
   ]
  },
  {
   "cell_type": "code",
   "execution_count": 12,
   "id": "a6af3b92",
   "metadata": {},
   "outputs": [
    {
     "name": "stdout",
     "output_type": "stream",
     "text": [
      "10.2 <class 'float'>\n"
     ]
    }
   ],
   "source": [
    "# дробное число\n",
    "num2 = 10.2\n",
    "print(num2, type(num2))"
   ]
  },
  {
   "cell_type": "code",
   "execution_count": 13,
   "id": "235fedc0",
   "metadata": {},
   "outputs": [
    {
     "name": "stdout",
     "output_type": "stream",
     "text": [
      "100000000.0 <class 'float'>\n"
     ]
    }
   ],
   "source": [
    "# експонента\n",
    "num3 = 1e8\n",
    "print(num3, type(num3))"
   ]
  },
  {
   "cell_type": "code",
   "execution_count": 15,
   "id": "943a83c4",
   "metadata": {},
   "outputs": [
    {
     "name": "stdout",
     "output_type": "stream",
     "text": [
      "(1+4j) <class 'complex'>\n"
     ]
    }
   ],
   "source": [
    "# комплексные числа (нужны для математических вычислений)\n",
    "num4 = 1 + 4j\n",
    "print(num4, type(num4))"
   ]
  },
  {
   "cell_type": "code",
   "execution_count": 4,
   "id": "953aa90b",
   "metadata": {},
   "outputs": [
    {
     "data": {
      "text/plain": [
       "0.3333333333333333"
      ]
     },
     "execution_count": 4,
     "metadata": {},
     "output_type": "execute_result"
    }
   ],
   "source": [
    "1/3"
   ]
  },
  {
   "cell_type": "code",
   "execution_count": 5,
   "id": "68a8546b",
   "metadata": {},
   "outputs": [
    {
     "name": "stdout",
     "output_type": "stream",
     "text": [
      "1.6666666666666666666666666666666666666666666666667 <class 'decimal.Decimal'>\n"
     ]
    }
   ],
   "source": [
    "# дробные числа (с настройкой точности)\n",
    "from decimal import Decimal, getcontext\n",
    "\n",
    "getcontext().prec = 50\n",
    "\n",
    "num5 = Decimal(5) / Decimal(3)\n",
    "print(num5, type(num5))"
   ]
  },
  {
   "cell_type": "code",
   "execution_count": 18,
   "id": "06a280a4",
   "metadata": {},
   "outputs": [
    {
     "name": "stdout",
     "output_type": "stream",
     "text": [
      "49\n"
     ]
    }
   ],
   "source": [
    "print(len('6666666666666666666666666666666666666666666666667'))"
   ]
  },
  {
   "cell_type": "code",
   "execution_count": 9,
   "id": "b1fcc22c",
   "metadata": {},
   "outputs": [
    {
     "name": "stdout",
     "output_type": "stream",
     "text": [
      "5/3 <class 'fractions.Fraction'>\n"
     ]
    }
   ],
   "source": [
    "# представление дроби\n",
    "from fractions import Fraction\n",
    "\n",
    "num6 = Fraction(5, 3)\n",
    "print(num6, type(num6))"
   ]
  },
  {
   "cell_type": "code",
   "execution_count": 10,
   "id": "6f421a36",
   "metadata": {},
   "outputs": [
    {
     "name": "stdout",
     "output_type": "stream",
     "text": [
      "0.99999999999999999999999999999999999999999999999999\n",
      "1\n"
     ]
    }
   ],
   "source": [
    "print(Decimal(1) / Decimal(3) * Decimal(3))\n",
    "print(Fraction(1, 3) * Fraction(3, 1))"
   ]
  },
  {
   "cell_type": "code",
   "execution_count": 23,
   "id": "ab9955d8",
   "metadata": {},
   "outputs": [
    {
     "name": "stdout",
     "output_type": "stream",
     "text": [
      "I am Denys \n",
      " I am Denys too \n",
      " <class 'str'>\n"
     ]
    }
   ],
   "source": [
    "# строки\n",
    "str1 = 'I am Denys'\n",
    "str2 = \"I am Denys too\"\n",
    "\n",
    "print(str1, '\\n', str2, '\\n', type(str1))"
   ]
  },
  {
   "cell_type": "code",
   "execution_count": 24,
   "id": "023ecab5",
   "metadata": {},
   "outputs": [
    {
     "name": "stdout",
     "output_type": "stream",
     "text": [
      "[1, 3, 4, 5] <class 'list'>\n"
     ]
    }
   ],
   "source": [
    "# списки (последовательность элементов, у каждого свой порядковый номер)\n",
    "ls = [1, 3, 4, 5]\n",
    "print(ls, type(ls))"
   ]
  },
  {
   "cell_type": "code",
   "execution_count": 25,
   "id": "83c414d9",
   "metadata": {},
   "outputs": [
    {
     "name": "stdout",
     "output_type": "stream",
     "text": [
      "{1, 4, 5, 6} <class 'set'>\n"
     ]
    }
   ],
   "source": [
    "# множество элементов (элементы не упорядочены)\n",
    "s = {1, 4, 5, 6}\n",
    "print(s, type(s))"
   ]
  },
  {
   "cell_type": "code",
   "execution_count": 26,
   "id": "ca1b8014",
   "metadata": {},
   "outputs": [
    {
     "name": "stdout",
     "output_type": "stream",
     "text": [
      "{'abc': 10, 'a': 13, 5: 73} <class 'dict'>\n"
     ]
    }
   ],
   "source": [
    "# словарь (есть для каждого элемента ключа (key), соответствует значение value)\n",
    "d = {\n",
    "    'abc': 10,\n",
    "    'a': 13,\n",
    "    5: 73\n",
    "}\n",
    "print(d, type(d))"
   ]
  },
  {
   "cell_type": "code",
   "execution_count": 13,
   "id": "6b13d4d2",
   "metadata": {},
   "outputs": [
    {
     "data": {
      "text/plain": [
       "(140550195374592, 140550195374592, 140550322078080)"
      ]
     },
     "execution_count": 13,
     "metadata": {},
     "output_type": "execute_result"
    }
   ],
   "source": [
    "ls = [1, 3, 5]\n",
    "id(ls), id(ls), id([1, 3, 5])"
   ]
  },
  {
   "cell_type": "markdown",
   "id": "73c30d67",
   "metadata": {},
   "source": [
    "## Динамическая типизация"
   ]
  },
  {
   "cell_type": "markdown",
   "id": "de946d05",
   "metadata": {},
   "source": [
    "Это возможность присвоить одной переменной значения различных типов.\n",
    "\n",
    "Динамическая типизация все еще строгая. Это значит что в любой момент времени каждой переменной присвоено значение определенного типа (все типы однозначно определены)."
   ]
  },
  {
   "cell_type": "code",
   "execution_count": 29,
   "id": "39189a67",
   "metadata": {},
   "outputs": [
    {
     "name": "stdout",
     "output_type": "stream",
     "text": [
      "10 <class 'int'>\n",
      "5.5 <class 'float'>\n",
      "[1, 2, 4] <class 'list'>\n"
     ]
    }
   ],
   "source": [
    "a = 10\n",
    "print(a, type(a))\n",
    "\n",
    "a = 5.5\n",
    "print(a, type(a))\n",
    "\n",
    "a = [1, 2, 4]\n",
    "print(a, type(a))"
   ]
  },
  {
   "cell_type": "markdown",
   "id": "66cc6828",
   "metadata": {},
   "source": [
    "## Арифметика"
   ]
  },
  {
   "cell_type": "code",
   "execution_count": 30,
   "id": "866c7aaa",
   "metadata": {},
   "outputs": [
    {
     "data": {
      "text/plain": [
       "10"
      ]
     },
     "execution_count": 30,
     "metadata": {},
     "output_type": "execute_result"
    }
   ],
   "source": [
    "# сложение\n",
    "5 + 5"
   ]
  },
  {
   "cell_type": "code",
   "execution_count": 31,
   "id": "f1d01fcd",
   "metadata": {},
   "outputs": [
    {
     "data": {
      "text/plain": [
       "11"
      ]
     },
     "execution_count": 31,
     "metadata": {},
     "output_type": "execute_result"
    }
   ],
   "source": [
    "# вычитание\n",
    "13 - 2"
   ]
  },
  {
   "cell_type": "code",
   "execution_count": 32,
   "id": "9cd58f87",
   "metadata": {},
   "outputs": [
    {
     "data": {
      "text/plain": [
       "64"
      ]
     },
     "execution_count": 32,
     "metadata": {},
     "output_type": "execute_result"
    }
   ],
   "source": [
    "# умножение\n",
    "2 * 32"
   ]
  },
  {
   "cell_type": "code",
   "execution_count": 34,
   "id": "90da49c7",
   "metadata": {},
   "outputs": [
    {
     "data": {
      "text/plain": [
       "2"
      ]
     },
     "execution_count": 34,
     "metadata": {},
     "output_type": "execute_result"
    }
   ],
   "source": [
    "# целочисленное деление\n",
    "13 // 6"
   ]
  },
  {
   "cell_type": "code",
   "execution_count": 35,
   "id": "47761287",
   "metadata": {},
   "outputs": [
    {
     "data": {
      "text/plain": [
       "2.1666666666666665"
      ]
     },
     "execution_count": 35,
     "metadata": {},
     "output_type": "execute_result"
    }
   ],
   "source": [
    "# дробное деление\n",
    "13 / 6"
   ]
  },
  {
   "cell_type": "code",
   "execution_count": 36,
   "id": "36611d19",
   "metadata": {},
   "outputs": [
    {
     "data": {
      "text/plain": [
       "1"
      ]
     },
     "execution_count": 36,
     "metadata": {},
     "output_type": "execute_result"
    }
   ],
   "source": [
    "# остаток от деления\n",
    "13 % 6"
   ]
  },
  {
   "cell_type": "code",
   "execution_count": 37,
   "id": "731b4077",
   "metadata": {},
   "outputs": [
    {
     "data": {
      "text/plain": [
       "32"
      ]
     },
     "execution_count": 37,
     "metadata": {},
     "output_type": "execute_result"
    }
   ],
   "source": [
    "# возведение в степень\n",
    "2 ** 5"
   ]
  },
  {
   "cell_type": "code",
   "execution_count": 38,
   "id": "d69b3e91",
   "metadata": {},
   "outputs": [
    {
     "data": {
      "text/plain": [
       "8"
      ]
     },
     "execution_count": 38,
     "metadata": {},
     "output_type": "execute_result"
    }
   ],
   "source": [
    "# для указания приоритета операции используются скобки: (, )\n",
    "2 * (2 + 2)"
   ]
  },
  {
   "cell_type": "code",
   "execution_count": 15,
   "id": "126f6df6",
   "metadata": {},
   "outputs": [
    {
     "name": "stdout",
     "output_type": "stream",
     "text": [
      "<class 'bool'> <class 'bool'>\n",
      "<class 'int'> <class 'int'>\n",
      "True True\n"
     ]
    }
   ],
   "source": [
    "print(type(True), type(False))\n",
    "print(type(0), type(1))\n",
    "print(True == 1, False == 0)"
   ]
  },
  {
   "cell_type": "code",
   "execution_count": 41,
   "id": "94bdc9c0",
   "metadata": {},
   "outputs": [
    {
     "name": "stdout",
     "output_type": "stream",
     "text": [
      "5 == 5 is True\n",
      "5 != 5 is False\n",
      "7 > 8 is False\n",
      "8 > 8 is False\n",
      "8 >= 8 is True\n",
      "8 <= 8 is True\n"
     ]
    }
   ],
   "source": [
    "# сравним два элемента\n",
    "print('5 == 5 is', 5 == 5)  # вернет True если сравнение верно, иначе вернет False\n",
    "print('5 != 5 is', 5 != 5)  # вернет True если сравнение ложно, иначе вернет False\n",
    "\n",
    "print('7 > 8 is', 7 > 8)\n",
    "print('8 > 8 is', 8 > 8)\n",
    "print('8 >= 8 is', 8 >= 8)\n",
    "print('8 <= 8 is', 8 <= 8)"
   ]
  },
  {
   "cell_type": "markdown",
   "id": "ebb2c06b",
   "metadata": {},
   "source": [
    "`True` на самом деле это алиас 1. В то же время `False` это алиас 0."
   ]
  },
  {
   "cell_type": "code",
   "execution_count": 43,
   "id": "fae990cf",
   "metadata": {},
   "outputs": [
    {
     "name": "stdout",
     "output_type": "stream",
     "text": [
      "True == 1 is True\n",
      "False == 0 is True\n"
     ]
    }
   ],
   "source": [
    "print('True == 1 is', True == 1)\n",
    "print('False == 0 is', False == 0)"
   ]
  },
  {
   "cell_type": "markdown",
   "id": "8dbd30aa",
   "metadata": {},
   "source": [
    "## Булева алгебра"
   ]
  },
  {
   "cell_type": "markdown",
   "id": "71198a7d",
   "metadata": {},
   "source": [
    "Оператор `and` вернет `True` если все компоненты `True`.\n",
    "\n",
    "Оператор `or` вернет `True` если хотя бы один компонент будет `True`\n"
   ]
  },
  {
   "cell_type": "markdown",
   "id": "28427526",
   "metadata": {},
   "source": [
    "## Практика"
   ]
  },
  {
   "cell_type": "markdown",
   "id": "07974bad",
   "metadata": {},
   "source": [
    "Поменять значения в переменных местами"
   ]
  },
  {
   "cell_type": "code",
   "execution_count": null,
   "id": "48959513",
   "metadata": {},
   "outputs": [],
   "source": [
    "a = ...\n",
    "b = ...\n",
    "\n",
    "assert a == ...\n",
    "assert b == ..."
   ]
  },
  {
   "cell_type": "markdown",
   "id": "60fcd112",
   "metadata": {},
   "source": [
    "Если `a > 0` вернуть 15, а иначе -30"
   ]
  },
  {
   "cell_type": "code",
   "execution_count": 18,
   "id": "85c9d48e",
   "metadata": {},
   "outputs": [],
   "source": [
    "a = -5\n",
    "\n",
    "res = a > 0 and 15 or -30\n",
    "\n",
    "# assert res == 15\n",
    "assert res == -30"
   ]
  },
  {
   "cell_type": "markdown",
   "id": "878062c3",
   "metadata": {},
   "source": [
    "Решить проблему с округлением"
   ]
  },
  {
   "cell_type": "code",
   "execution_count": 25,
   "id": "e2469ce7",
   "metadata": {},
   "outputs": [],
   "source": [
    "# ctrl + /\n",
    "from decimal import Decimal, getcontext\n",
    "\n",
    "getcontext().prec = 1\n",
    "\n",
    "a = 0.1\n",
    "b = 0.2\n",
    "\n",
    "res = Decimal(a) + Decimal(b)\n",
    "# print(res, Decimal(0.3))\n",
    "\n",
    "assert res == Decimal('0.3'), f'{res} != 0.3'"
   ]
  },
  {
   "cell_type": "code",
   "execution_count": 24,
   "id": "737b1b84",
   "metadata": {},
   "outputs": [
    {
     "name": "stdout",
     "output_type": "stream",
     "text": [
      "True\n"
     ]
    }
   ],
   "source": [
    "getcontext().prec = 5\n",
    "Decimal('0.3')\n",
    "\n",
    "print(res == Decimal('0.3'))"
   ]
  },
  {
   "cell_type": "code",
   "execution_count": 34,
   "id": "b5ce46a7",
   "metadata": {},
   "outputs": [],
   "source": [
    "from fractions import Fraction\n",
    "\n",
    "a = Fraction(1, 10)\n",
    "b = Fraction(2, 10)\n",
    "res = a + b\n",
    "\n",
    "assert float(res) == 0.3, f'{res} != 0.3'"
   ]
  },
  {
   "cell_type": "code",
   "execution_count": 35,
   "id": "be24b5f7",
   "metadata": {},
   "outputs": [],
   "source": [
    "from fractions import Fraction\n",
    "\n",
    "a = Fraction(1, 10)\n",
    "b = Fraction(2, 10)\n",
    "res = a + b\n",
    "\n",
    "assert res == Fraction(3, 10), f'{res} != 0.3'"
   ]
  },
  {
   "cell_type": "code",
   "execution_count": 5,
   "id": "be27acd8",
   "metadata": {},
   "outputs": [
    {
     "name": "stdout",
     "output_type": "stream",
     "text": [
      "0.2\n"
     ]
    }
   ],
   "source": [
    "a = 0.1\n",
    "b = 0.1\n",
    "\n",
    "assert a + b == 0.2\n",
    "print(a + b)"
   ]
  },
  {
   "cell_type": "markdown",
   "id": "f7187053",
   "metadata": {},
   "source": [
    "Битовые маски"
   ]
  },
  {
   "cell_type": "code",
   "execution_count": 49,
   "id": "1065c255",
   "metadata": {},
   "outputs": [
    {
     "data": {
      "text/plain": [
       "True"
      ]
     },
     "execution_count": 49,
     "metadata": {},
     "output_type": "execute_result"
    }
   ],
   "source": [
    "1 << 3 == 2 ** 3"
   ]
  },
  {
   "cell_type": "code",
   "execution_count": 39,
   "id": "95bae3e4",
   "metadata": {},
   "outputs": [
    {
     "data": {
      "text/plain": [
       "('0b101', '10001')"
      ]
     },
     "execution_count": 39,
     "metadata": {},
     "output_type": "execute_result"
    }
   ],
   "source": [
    "bin(5), format(17, 'b')"
   ]
  },
  {
   "cell_type": "code",
   "execution_count": 43,
   "id": "6b490082",
   "metadata": {},
   "outputs": [
    {
     "name": "stdout",
     "output_type": "stream",
     "text": [
      "0b100\n",
      "0b1100 1100\n"
     ]
    }
   ],
   "source": [
    "a = 4\n",
    "print(bin(a))\n",
    "\n",
    "res = a | (1 << 3)\n",
    "print(bin(res), format(res, 'b'))"
   ]
  },
  {
   "cell_type": "code",
   "execution_count": 16,
   "id": "41865670",
   "metadata": {},
   "outputs": [
    {
     "data": {
      "text/plain": [
       "(Decimal('0.3000000000000000444089209850062616169452667236328125'),\n",
       " Decimal('0.299999999999999988897769753748434595763683319091796875'))"
      ]
     },
     "execution_count": 16,
     "metadata": {},
     "output_type": "execute_result"
    }
   ],
   "source": [
    "from decimal import Decimal\n",
    "\n",
    "Decimal(0.1 + 0.2), Decimal(0.3)"
   ]
  },
  {
   "cell_type": "code",
   "execution_count": 24,
   "id": "73cd7d60",
   "metadata": {},
   "outputs": [
    {
     "name": "stdout",
     "output_type": "stream",
     "text": [
      "0.1000000000000000055511151231257827021181583404541015625\n"
     ]
    },
    {
     "data": {
      "text/plain": [
       "Context(prec=120, rounding=ROUND_HALF_EVEN, Emin=-999999, Emax=999999, capitals=1, clamp=0, flags=[FloatOperation], traps=[DivisionByZero, Overflow, InvalidOperation])"
      ]
     },
     "execution_count": 24,
     "metadata": {},
     "output_type": "execute_result"
    }
   ],
   "source": [
    "from decimal import getcontext\n",
    "getcontext().prec = 120\n",
    "\n",
    "print(Decimal(0.1))\n",
    "getcontext()"
   ]
  }
 ],
 "metadata": {
  "kernelspec": {
   "display_name": "Python 3.9.6 64-bit",
   "language": "python",
   "name": "python39664bite72f9b65d85347d890afc52b1e8e5214"
  },
  "language_info": {
   "codemirror_mode": {
    "name": "ipython",
    "version": 3
   },
   "file_extension": ".py",
   "mimetype": "text/x-python",
   "name": "python",
   "nbconvert_exporter": "python",
   "pygments_lexer": "ipython3",
   "version": "3.9.6"
  }
 },
 "nbformat": 4,
 "nbformat_minor": 5
}
